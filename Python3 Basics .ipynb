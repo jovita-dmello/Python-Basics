{
 "cells": [
  {
   "cell_type": "markdown",
   "metadata": {},
   "source": [
    "# First Program"
   ]
  },
  {
   "cell_type": "code",
   "execution_count": 1,
   "metadata": {},
   "outputs": [
    {
     "name": "stdout",
     "output_type": "stream",
     "text": [
      "\n",
      " Enter the principal Amount:54000\n",
      "\n",
      " Enter the time period:18\n",
      "\n",
      " Enter the rate of interest:7.2\n",
      "\n",
      " Simple Interest: 69984.0\n"
     ]
    }
   ],
   "source": [
    "amt = int(input(\"\\n Enter the principal Amount:\"))\n",
    "time = int(input(\"\\n Enter the time period:\"))\n",
    "rate = float(input(\"\\n Enter the rate of interest:\"))\n",
    "total = amt*time*rate/100\n",
    "print(\"\\n Simple Interest:\",total)\n"
   ]
  },
  {
   "cell_type": "markdown",
   "metadata": {},
   "source": [
    "# Output using Print"
   ]
  },
  {
   "cell_type": "code",
   "execution_count": 2,
   "metadata": {},
   "outputs": [
    {
     "name": "stdout",
     "output_type": "stream",
     "text": [
      "This sentence is output to the screen\n",
      "The value of a is: 22\n",
      "x: 1 2 3 4 5\n",
      "The value of x is 1 and y is 2000\n",
      "I love bread and butter\n",
      "I love butter and bread\n"
     ]
    }
   ],
   "source": [
    "print('''This sentence is output to the screen''')\n",
    "a=22\n",
    "print(\"The value of a is:\",a)\n",
    "print('x:',1,2,3,4,5)\n",
    "x = 1 ; y = 2000\n",
    "print('The value of x is {} and y is {}'.format(x,y))\n",
    "print('I love {0} and {1}'.format('bread','butter'))\n",
    "print('I love {1} and {0}'.format('bread','butter'))\n"
   ]
  },
  {
   "cell_type": "code",
   "execution_count": 3,
   "metadata": {},
   "outputs": [
    {
     "name": "stdout",
     "output_type": "stream",
     "text": [
      "Hello Jovita, Good Morning!!\n"
     ]
    }
   ],
   "source": [
    "print('Hello {name}, {greeting}'.format(greeting = 'Good Morning!!',\\\n",
    "                                        name = 'Jovita'))"
   ]
  },
  {
   "cell_type": "code",
   "execution_count": 4,
   "metadata": {},
   "outputs": [
    {
     "name": "stdout",
     "output_type": "stream",
     "text": [
      "The value of x is 20.986\n",
      "The value of x is 20.98562\n"
     ]
    }
   ],
   "source": [
    "x = 20.98562147\n",
    "print('The value of x is %3.3f' %x)\n",
    "print('The value of x is %3.5f' %x)"
   ]
  },
  {
   "cell_type": "code",
   "execution_count": 5,
   "metadata": {},
   "outputs": [
    {
     "name": "stdout",
     "output_type": "stream",
     "text": [
      " 1   1    1\n",
      " 2   4    8\n",
      " 3   9   27\n",
      " 4  16   64\n",
      " 5  25  125\n",
      " 6  36  216\n",
      " 7  49  343\n",
      " 8  64  512\n",
      " 9  81  729\n",
      "10 100 1000\n"
     ]
    }
   ],
   "source": [
    "for i in range(1, 11):\n",
    "     print('{0:2d} {1:3d} {2:4d}'.format(i, i*i, i*i*i))"
   ]
  },
  {
   "cell_type": "code",
   "execution_count": 6,
   "metadata": {},
   "outputs": [
    {
     "name": "stdout",
     "output_type": "stream",
     "text": [
      "Jovita     ==>  999545679\n",
      "Diana      ==>  999543679\n",
      "Dmello     ==>  999548679\n"
     ]
    }
   ],
   "source": [
    "table = {'Jovita': 999545679, 'Diana': 999543679, 'Dmello': 999548679}\n",
    "for name, phone in table.items():\n",
    "     print('{0:10} ==> {1:10d}'.format(name, phone))"
   ]
  },
  {
   "cell_type": "code",
   "execution_count": 7,
   "metadata": {},
   "outputs": [
    {
     "name": "stdout",
     "output_type": "stream",
     "text": [
      "The value of PI is approximately 3.1416.\n"
     ]
    }
   ],
   "source": [
    "import math\n",
    "print('The value of PI is approximately %5.4f.' % math.pi)"
   ]
  },
  {
   "cell_type": "markdown",
   "metadata": {},
   "source": [
    "# 1.1 Input using input"
   ]
  },
  {
   "cell_type": "code",
   "execution_count": 8,
   "metadata": {},
   "outputs": [
    {
     "name": "stdout",
     "output_type": "stream",
     "text": [
      "Enter a string: Jovi\n",
      "The entered string is :Jovi\n",
      "Enter a integer: 22\n",
      "The entered integer is : 22\n",
      "Enter a floating point number:0.1\n",
      "The entered real number  is : 0.1\n"
     ]
    }
   ],
   "source": [
    "str = input('Enter a string: ')\n",
    "print(\"The entered string is :{0}\".format(str))\n",
    "inte = int(input('Enter a integer: '))\n",
    "print(\"The entered integer is :\",inte)\n",
    "flo = float(input('Enter a floating point number:'))\n",
    "print(\"The entered real number  is :\",flo)"
   ]
  },
  {
   "cell_type": "markdown",
   "metadata": {},
   "source": [
    "# 1.2 Mutiline Statements"
   ]
  },
  {
   "cell_type": "code",
   "execution_count": 9,
   "metadata": {},
   "outputs": [
    {
     "name": "stdout",
     "output_type": "stream",
     "text": [
      "a has a value of 20.98562147\n",
      "b has a value of 2000\n",
      "['Monday', 'Tuesday', 'Wednesday', 'Thursday', 'Friday']\n",
      "{'7': 'Sunday'}\n"
     ]
    }
   ],
   "source": [
    "a = ('22' + '1' +\n",
    "     '20' + '10')\n",
    "b = '8' + '6' + \\\n",
    "'20' + '19'\n",
    "weekdays = ['Monday', 'Tuesday', 'Wednesday',\n",
    "'Thursday', 'Friday']\n",
    "weekday = {'7':\n",
    "           'Sunday'}\n",
    "print ('a has a value of', x)\n",
    "print ('b has a value of', y)\n",
    "print(weekdays)\n",
    "print(weekday)"
   ]
  },
  {
   "cell_type": "code",
   "execution_count": 10,
   "metadata": {},
   "outputs": [
    {
     "name": "stdout",
     "output_type": "stream",
     "text": [
      "Hello\n"
     ]
    }
   ],
   "source": [
    "import os; x = 'Hello'; print(x)"
   ]
  },
  {
   "cell_type": "markdown",
   "metadata": {},
   "source": [
    "# 2.0 Conditional Execution"
   ]
  },
  {
   "cell_type": "markdown",
   "metadata": {},
   "source": [
    "## Example code for a simple ‘if’ statement"
   ]
  },
  {
   "cell_type": "code",
   "execution_count": 11,
   "metadata": {},
   "outputs": [
    {
     "name": "stdout",
     "output_type": "stream",
     "text": [
      "the value of a is positive\n",
      "1\n"
     ]
    }
   ],
   "source": [
    "a = 1\n",
    "if a < 0:\n",
    "    print(\"the value of a is negative\")\n",
    "    print(a)\n",
    "else:\n",
    "    print(\"the value of a is positive\")\n",
    "    print(a)"
   ]
  },
  {
   "cell_type": "code",
   "execution_count": 12,
   "metadata": {},
   "outputs": [
    {
     "name": "stdout",
     "output_type": "stream",
     "text": [
      "-1\n",
      "the value of var is negative\n",
      "the value of var is negative\n"
     ]
    }
   ],
   "source": [
    "var = -1\n",
    "if var < 0:\n",
    "    print(var)\n",
    "    print(\"the value of  is negative\")\n",
    "if ( var == -1 ) : \n",
    "    print(\"the value of var is negative\")"
   ]
  },
  {
   "cell_type": "code",
   "execution_count": 13,
   "metadata": {},
   "outputs": [
    {
     "name": "stdout",
     "output_type": "stream",
     "text": [
      "B\n"
     ]
    }
   ],
   "source": [
    "score = 95\n",
    "if score >= 99:\n",
    "    print('A')\n",
    "elif score >=75:\n",
    "    print('B')\n",
    "elif score >= 60:\n",
    "    print('C')\n",
    "elif score >= 35:\n",
    "    print('D')\n",
    "else:\n",
    "    print('F')\n"
   ]
  },
  {
   "cell_type": "markdown",
   "metadata": {},
   "source": [
    "# 3.0 Iterations"
   ]
  },
  {
   "cell_type": "markdown",
   "metadata": {},
   "source": [
    "## Usage of For Loop"
   ]
  },
  {
   "cell_type": "code",
   "execution_count": 14,
   "metadata": {},
   "outputs": [
    {
     "name": "stdout",
     "output_type": "stream",
     "text": [
      "First Example\n",
      "item : 1\n",
      "item : 2\n",
      "item : 3\n",
      "item : 4\n",
      "item : 5\n",
      "Second Example\n",
      "First loop letter : A\n",
      "First loop letter : B\n",
      "First loop letter : C\n"
     ]
    }
   ],
   "source": [
    "print(\"First Example\")\n",
    "for item in [1,2,3,4,5]:\n",
    "    print('item :', item)\n",
    "print(\"Second Example\")\n",
    "letters = ['A', 'B', 'C']\n",
    "for index in range(len(letters)):\n",
    "    print('First loop letter :', letters[index])"
   ]
  },
  {
   "cell_type": "markdown",
   "metadata": {},
   "source": [
    "# 4.1 LISTS"
   ]
  },
  {
   "cell_type": "code",
   "execution_count": 12,
   "metadata": {},
   "outputs": [
    {
     "name": "stdout",
     "output_type": "stream",
     "text": [
      "list_1[0]:  Statistics\n",
      "list2_[1:5]:  ['b', 1, 2, 3]\n"
     ]
    }
   ],
   "source": [
    "list_1 = ['Statistics', 'Programming', 2016, 2017, 2018]\n",
    "list_2 = ['a', 'b', 1, 2, 3, 4, 5, 6, 7 ]\n",
    "print(\"list_1[0]: \", list_1[0])\n",
    "print(\"list2_[1:5]: \", list_2[1:5])"
   ]
  },
  {
   "cell_type": "code",
   "execution_count": 13,
   "metadata": {},
   "outputs": [
    {
     "name": "stdout",
     "output_type": "stream",
     "text": [
      "list_1 values:  ['Statistics', 'Programming', 2016, 2017, 2018]\n",
      "list_1 values post append:  ['Statistics', 'Programming', 2016, 2017, 2018, 2019]\n"
     ]
    }
   ],
   "source": [
    "print(\"list_1 values: \", list_1)\n",
    "list_1.append(2019)\n",
    "print(\"list_1 values post append: \", list_1)"
   ]
  },
  {
   "cell_type": "code",
   "execution_count": 14,
   "metadata": {},
   "outputs": [
    {
     "name": "stdout",
     "output_type": "stream",
     "text": [
      "Length of Tuple:  7\n",
      "Concatinated Tuple:  ('a', 'b', 'c', 'd', 1, 2, 3, 7, 8, 9)\n",
      "Repetition:  (1, 'a', 2, 'b', 1, 'a', 2, 'b', 1, 'a', 2, 'b')\n",
      "Membership check:  True\n",
      "1\n",
      "2\n",
      "3\n",
      "Negative sign will retrieve item from right:  8\n",
      "Sliced Tuple [2:]  ('c', 'd', 1, 2, 3, 7, 8, 9)\n",
      "Max of the Tuple (1,2,3,4,5,6,7,8,9,10):  10\n",
      "Min of the Tuple (1,2,3,4,5,6,7,8,9,10):  1\n",
      "List [1,2,3,4] converted to tuple:  <class 'tuple'>\n"
     ]
    }
   ],
   "source": [
    "Tuple = ('a','b','c','d',1,2,3)\n",
    "print(\"Length of Tuple: \", len(Tuple))\n",
    "Tuple_Concat = Tuple + (7,8,9)\n",
    "print(\"Concatinated Tuple: \", Tuple_Concat)\n",
    "\n",
    "print(\"Repetition: \", (1,'a',2, 'b') * 3)\n",
    "print(\"Membership check: \", 3 in (1,2,3))\n",
    "for x in (1, 2, 3): print(x)\n",
    "print(\"Negative sign will retrieve item from right: \", Tuple_Concat[-2])\n",
    "print(\"Sliced Tuple [2:] \", Tuple_Concat[2:])\n",
    "print(\"Max of the Tuple (1,2,3,4,5,6,7,8,9,10): \",\n",
    "max((1,2,3,4,5,6,7,8,9,10)))\n",
    "print(\"Min of the Tuple (1,2,3,4,5,6,7,8,9,10): \",\n",
    "min((1,2,3,4,5,6,7,8,9,10)))\n",
    "print(\"List [1,2,3,4] converted to tuple: \", type(tuple([1,2,3,4])))"
   ]
  },
  {
   "cell_type": "markdown",
   "metadata": {},
   "source": [
    "# 4.3 Dictionary"
   ]
  },
  {
   "cell_type": "code",
   "execution_count": 15,
   "metadata": {},
   "outputs": [
    {
     "name": "stdout",
     "output_type": "stream",
     "text": [
      "Sample dictionary:  {'Name': 'Jovita', 'Age': 20, 'Class': '7cs1'}\n"
     ]
    }
   ],
   "source": [
    "dict = {'Name': 'Jovita', 'Age': 20, 'Class': '7cs1'}\n",
    "print(\"Sample dictionary: \", dict)"
   ]
  },
  {
   "cell_type": "code",
   "execution_count": 16,
   "metadata": {},
   "outputs": [
    {
     "name": "stdout",
     "output_type": "stream",
     "text": [
      "Value of key Name, from sample dictionary: Jovita\n"
     ]
    }
   ],
   "source": [
    "print(\"Value of key Name, from sample dictionary:\", dict['Name'])"
   ]
  },
  {
   "cell_type": "code",
   "execution_count": 17,
   "metadata": {},
   "outputs": [
    {
     "name": "stdout",
     "output_type": "stream",
     "text": [
      "Sample dictionary:  {'Name': 'Jovita', 'Age': 20, 'Class': '7cs1'}\n",
      "1 Name Jovita\n",
      "2 Age 20\n",
      "3 Class 7cs1\n",
      "Sample dictionary post deletion of item Name: {'Age': 20, 'Class': '7cs1'}\n",
      "dict post dict.clear(): {}\n"
     ]
    }
   ],
   "source": [
    "dict0 = {'Name': 'Jovita', 'Age': 20, 'Class': '7cs1'}\n",
    "print(\"Sample dictionary: \", dict0)\n",
    "k=1\n",
    "for i in dict0:\n",
    "    print(k,i,dict0[i])\n",
    "    k=k+1\n",
    "del (dict0['Name'])\n",
    "\n",
    "print(\"Sample dictionary post deletion of item Name:\", dict0)\n",
    "\n",
    "dict0 = {'Name': 'Jovita', 'Age': 20, 'Class': '7cs1'}\n",
    "dict0.clear()\n",
    "print(\"dict post dict.clear():\", dict0)\n",
    "\n",
    "dict = {'Name': 'Jovita', 'Age': 20, 'Class': '7cs1'}\n",
    "del (dict0)\n"
   ]
  },
  {
   "cell_type": "code",
   "execution_count": 18,
   "metadata": {},
   "outputs": [
    {
     "name": "stdout",
     "output_type": "stream",
     "text": [
      "Sample dictionary:  {'Name': 'Jovita', 'Age': 20, 'Class': '7cs1'}\n",
      "Dictionary post age value update:  {'Name': 'Jovita', 'Age': 19, 'Class': '7cs1'}\n"
     ]
    }
   ],
   "source": [
    "dict = {'Name': 'Jovita', 'Age': 20, 'Class': '7cs1'}\n",
    "print(\"Sample dictionary: \", dict)\n",
    "dict['Age'] = 19\n",
    "print(\"Dictionary post age value update: \", dict)"
   ]
  },
  {
   "cell_type": "code",
   "execution_count": 20,
   "metadata": {},
   "outputs": [
    {
     "name": "stdout",
     "output_type": "stream",
     "text": [
      "Length of dict:  3\n",
      "Copy:\n",
      " {'Name': 'Jovita', 'Age': 20, 'Class': '7cs1'}\n",
      "Value for Age:  20\n",
      "dict items:  dict_items([('Name', 'Jovita'), ('Age', 20), ('Class', '7cs1')])\n",
      "dict keys:  dict_keys(['Name', 'Age', 'Class'])\n",
      "Value of dict:  dict_values(['Jovita', 20, '7cs1'])\n",
      "dict1.update(dict2) =  {'Name': 'Jovita', 'Age': 20, 'Sex': 'female'}\n"
     ]
    }
   ],
   "source": [
    "dict = {'Name': 'Jovita', 'Age': 20, 'Class': '7cs1'}\n",
    "print(\"Length of dict: \", len(dict))\n",
    "\n",
    "dict1 = dict.copy()\n",
    "print(\"Copy:\\n\",dict1)\n",
    "print(\"Value for Age: \", dict.get('Age'))\n",
    "print(\"dict items: \", dict.items())\n",
    "print(\"dict keys: \", dict.keys())\n",
    "print(\"Value of dict: \", dict.values())\n",
    "\n",
    "dict1 = {'Name': 'Jovita', 'Age': 20}\n",
    "dict2 = {'Sex': 'female' }\n",
    "dict1.update(dict2)\n",
    "print(\"dict1.update(dict2) = \", dict1)"
   ]
  },
  {
   "cell_type": "markdown",
   "metadata": {},
   "source": [
    "# 5.0 User-Defined Functions"
   ]
  },
  {
   "cell_type": "code",
   "execution_count": 21,
   "metadata": {},
   "outputs": [
    {
     "name": "stdout",
     "output_type": "stream",
     "text": [
      "Hello....\n"
     ]
    }
   ],
   "source": [
    "def someFunction():\n",
    "    print(\"Hello....\")\n",
    "someFunction()"
   ]
  },
  {
   "cell_type": "code",
   "execution_count": 22,
   "metadata": {},
   "outputs": [
    {
     "name": "stdout",
     "output_type": "stream",
     "text": [
      "13\n"
     ]
    }
   ],
   "source": [
    "def addition(a, b):\n",
    "        return a + b\n",
    "print(addition(4,9))"
   ]
  },
  {
   "cell_type": "code",
   "execution_count": 24,
   "metadata": {},
   "outputs": [
    {
     "name": "stdout",
     "output_type": "stream",
     "text": [
      "13\n"
     ]
    }
   ],
   "source": [
    "a = 1\n",
    "def addition(b):\n",
    "    return a + b\n",
    "print(addition(12))"
   ]
  },
  {
   "cell_type": "code",
   "execution_count": 25,
   "metadata": {},
   "outputs": [
    {
     "name": "stdout",
     "output_type": "stream",
     "text": [
      "4\n",
      "5\n",
      "9\n"
     ]
    }
   ],
   "source": [
    "def sample(*args):\n",
    "    for i in args:\n",
    "        print(i)\n",
    "sample(4,5,9)"
   ]
  },
  {
   "cell_type": "code",
   "execution_count": 26,
   "metadata": {},
   "outputs": [
    {
     "name": "stdout",
     "output_type": "stream",
     "text": [
      "name Jovi\n",
      "age 20\n"
     ]
    }
   ],
   "source": [
    "def sample(**args):\n",
    "    for i in args:\n",
    "        print(i, args[i])\n",
    "sample(name='Jovi', age=20)"
   ]
  },
  {
   "cell_type": "code",
   "execution_count": 27,
   "metadata": {},
   "outputs": [
    {
     "name": "stdout",
     "output_type": "stream",
     "text": [
      "Function Add:\n",
      " 15\n",
      "Lambda Add :\n",
      " 15\n"
     ]
    }
   ],
   "source": [
    "def add(a,b): \n",
    "    return a+b\n",
    "print(\"Function Add:\\n\",add(3,12))\n",
    "add = lambda x, y : x + y \n",
    "print(\"Lambda Add :\\n\",add(13,2))"
   ]
  },
  {
   "cell_type": "code",
   "execution_count": null,
   "metadata": {},
   "outputs": [],
   "source": []
  }
 ],
 "metadata": {
  "kernelspec": {
   "display_name": "Python 3",
   "language": "python",
   "name": "python3"
  },
  "language_info": {
   "codemirror_mode": {
    "name": "ipython",
    "version": 3
   },
   "file_extension": ".py",
   "mimetype": "text/x-python",
   "name": "python",
   "nbconvert_exporter": "python",
   "pygments_lexer": "ipython3",
   "version": "3.7.3"
  },
  "widgets": {
   "application/vnd.jupyter.widget-state+json": {
    "state": {},
    "version_major": 2,
    "version_minor": 0
   }
  }
 },
 "nbformat": 4,
 "nbformat_minor": 2
}
